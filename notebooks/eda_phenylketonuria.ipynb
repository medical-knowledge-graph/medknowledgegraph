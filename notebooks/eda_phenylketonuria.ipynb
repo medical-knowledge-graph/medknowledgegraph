{
 "cells": [
  {
   "cell_type": "code",
   "execution_count": 1,
   "metadata": {},
   "outputs": [],
   "source": [
    "import json\n",
    "from pymedgraph.manager import MedGraphManager"
   ]
  },
  {
   "cell_type": "code",
   "execution_count": 6,
   "metadata": {
    "pycharm": {
     "name": "#%%\n"
    }
   },
   "outputs": [
    {
     "data": {
      "text/plain": [
       "'{\"disease\": \"phenylketonuria\", \"n_articles\": 10, \"mesh_terms\": true, \"key_words\": true, \"entities\": true}'"
      ]
     },
     "execution_count": 6,
     "metadata": {},
     "output_type": "execute_result"
    }
   ],
   "source": [
    "# build request\n",
    "key_term = 'phenylketonuria'\n",
    "request_json = json.dumps({'disease': key_term, 'n_articles': 10, 'mesh_terms': True, 'key_words': True, 'entities': True})\n",
    "request_json"
   ]
  },
  {
   "cell_type": "code",
   "execution_count": 7,
   "metadata": {
    "pycharm": {
     "name": "#%%\n"
    }
   },
   "outputs": [
    {
     "data": {
      "text/plain": [
       "10"
      ]
     },
     "execution_count": 7,
     "metadata": {},
     "output_type": "execute_result"
    }
   ],
   "source": [
    "# init manager\n",
    "manager = MedGraphManager(config_path='../pymedgraph/localconfig.json')\n",
    "# get results for request\n",
    "result = manager.construct_med_graph(request_json)\n",
    "len(result)"
   ]
  },
  {
   "cell_type": "code",
   "execution_count": 8,
   "metadata": {},
   "outputs": [
    {
     "data": {
      "text/plain": [
       "{'pubmed~33427303': {'title': 'Tyrosine supplementation for phenylketonuria.',\n",
       "  'mesh_terms': ['Dietary Supplements',\n",
       "   'Humans',\n",
       "   'Intelligence',\n",
       "   'Neuropsychological Tests',\n",
       "   'Phenylalanine',\n",
       "   'Phenylketonurias',\n",
       "   'Placebos',\n",
       "   'Randomized Controlled Trials As Topic',\n",
       "   'Tyrosine'],\n",
       "  'key_words': [('Fibrosis', 'DISEASE'),\n",
       "   ('Inherited Disease', 'DISEASE'),\n",
       "   ('Amino Acid Tyrosine', 'CHEMICAL'),\n",
       "   ('Amino Acid Phenylalanine', 'CHEMICAL'),\n",
       "   ('Metabolic Disease', 'DISEASE'),\n",
       "   ('Phenylketonuria', 'DISEASE'),\n",
       "   ('Tyrosine', 'CHEMICAL')]},\n",
       " 'pubmed~32482081': {'title': 'Functional vitamin B12 deficiency in phenylketonuria patients and healthy controls: An evaluation with combined indicator of vitamin B12 status as a biochemical index.',\n",
       "  'mesh_terms': ['Adolescent',\n",
       "   'Biomarkers',\n",
       "   'Case-Control Studies',\n",
       "   'Child',\n",
       "   'Child, Preschool',\n",
       "   'Female',\n",
       "   'Folic Acid',\n",
       "   'Homocysteine',\n",
       "   'Humans',\n",
       "   'Male',\n",
       "   'Methylmalonic Acid',\n",
       "   'Phenylketonurias',\n",
       "   'Vitamin B 12',\n",
       "   'Vitamin B 12 Deficiency'],\n",
       "  'key_words': [('Folate', 'CHEMICAL'),\n",
       "   ('Cb12', 'CHEMICAL'),\n",
       "   ('Methylmalonic Acid', 'DISEASE'),\n",
       "   ('Vitamin B12', 'CHEMICAL'),\n",
       "   ('Methylmalonic Acid', 'CHEMICAL'),\n",
       "   ('Homocysteine', 'CHEMICAL'),\n",
       "   ('Phenylketonuria', 'DISEASE')]},\n",
       " 'pubmed~34423658': {'title': 'Cardiac Magnetic Resonance Reveals Incipient Cardiomyopathy Traits in Adult Patients With Phenylketonuria.',\n",
       "  'mesh_terms': ['Adult',\n",
       "   'Cardiomyopathies',\n",
       "   'Humans',\n",
       "   'Magnetic Resonance Spectroscopy',\n",
       "   'Phenotype',\n",
       "   'Phenylalanine',\n",
       "   'Phenylketonurias',\n",
       "   'Tyrosine',\n",
       "   'Young Adult'],\n",
       "  'key_words': [('End-Diastolic', 'DISEASE'),\n",
       "   ('Phenylalanine', 'CHEMICAL'),\n",
       "   ('909±48', 'CHEMICAL'),\n",
       "   ('Left Ventricular Mass (38.2±7.9 Versus 47.8±11.0 G/M', 'DISEASE'),\n",
       "   ('Thinner Left', 'DISEASE'),\n",
       "   ('Metabolic Abnormalities', 'DISEASE'),\n",
       "   ('924±330', 'CHEMICAL'),\n",
       "   ('Amino Acid', 'CHEMICAL'),\n",
       "   ('Traits', 'DISEASE'),\n",
       "   ('Thirty-Nine', 'CHEMICAL'),\n",
       "   ('Phenylketonuria', 'DISEASE'),\n",
       "   ('Tyrosine', 'CHEMICAL'),\n",
       "   ('Dyslipidemia', 'DISEASE'),\n",
       "   ('Septal End-Diastolic Thickness', 'DISEASE'),\n",
       "   ('Left Ventricular Mass Associate With Lower T1. Conclusions Cardiac Phenotype Of Adult',\n",
       "    'DISEASE'),\n",
       "   ('Cardiomyopathy', 'DISEASE'),\n",
       "   ('Dilated Left Ventricular Cavity', 'DISEASE')]},\n",
       " 'pubmed~30778886': {'title': 'Admissions and Cost of Hospitalisation of Phenylketonuria: Spanish Claims Database Analysis.',\n",
       "  'mesh_terms': ['Child, Preschool',\n",
       "   'Databases, Factual',\n",
       "   'Delivery Of Health Care',\n",
       "   'Female',\n",
       "   'Health Care Costs',\n",
       "   'Hospitalization',\n",
       "   'Humans',\n",
       "   'Insurance Claim Review',\n",
       "   'Male',\n",
       "   'Patient Admission',\n",
       "   'Phenylketonurias',\n",
       "   'Retrospective Studies',\n",
       "   'Spain'],\n",
       "  'key_words': [('Phenylketonuria Diagnosis', 'DISEASE'),\n",
       "   ('Phenylketonuria', 'DISEASE')]},\n",
       " 'pubmed~33093221': {'title': 'Phenylalanine Effects on Brain Function in Adult Phenylketonuria.',\n",
       "  'mesh_terms': ['Adult',\n",
       "   'Atrophy',\n",
       "   'Cognition',\n",
       "   'Cross-Sectional Studies',\n",
       "   'Evoked Potentials, Motor',\n",
       "   'Female',\n",
       "   'Humans',\n",
       "   'Magnetic Resonance Imaging',\n",
       "   'Male',\n",
       "   'Neuropsychological Tests',\n",
       "   'Phenylalanine',\n",
       "   'Phenylketonurias',\n",
       "   'Prospective Studies',\n",
       "   'Putamen',\n",
       "   'Thalamus'],\n",
       "  'key_words': [('Atrophy', 'DISEASE'),\n",
       "   ('Phenylalanine', 'CHEMICAL'),\n",
       "   ('Parietal Lobe Atrophy', 'DISEASE'),\n",
       "   ('Phenylketonuria', 'DISEASE'),\n",
       "   ('Autonomic Dysfunction', 'DISEASE')]},\n",
       " 'pubmed~33570037': {'title': '[Diagnosis and monitoring of phenylketonuria by LC-MS-MS in Morocco].',\n",
       "  'mesh_terms': ['Chromatography, Liquid',\n",
       "   'Female',\n",
       "   'Humans',\n",
       "   'Male',\n",
       "   'Morocco',\n",
       "   'Phenylalanine',\n",
       "   'Phenylketonurias',\n",
       "   'Tandem Mass Spectrometry'],\n",
       "  'key_words': [('Phenylalanine', 'CHEMICAL'),\n",
       "   ('Autosomal Recessive', 'DISEASE'),\n",
       "   ('Inherited Metabolic Disease', 'DISEASE'),\n",
       "   ('Behavioral Disorders', 'DISEASE'),\n",
       "   ('Phenylketonuria', 'DISEASE'),\n",
       "   ('Neurological Disorders', 'DISEASE'),\n",
       "   ('Tyrosine', 'CHEMICAL'),\n",
       "   ('Toxicity', 'DISEASE')]},\n",
       " 'pubmed~35270292': {'title': 'Patient with Phenylketonuria and Intellectual Disability-Problem Not Always Caused Exclusively by Insufficient Metabolic Control (Coexistence of PKU and Alazami Syndrome).',\n",
       "  'mesh_terms': ['Humans',\n",
       "   'Intellectual Disability',\n",
       "   'Male',\n",
       "   'Microcephaly',\n",
       "   'Phenotype',\n",
       "   'Phenylalanine',\n",
       "   'Phenylketonurias'],\n",
       "  'key_words': [('Phenylalanine', 'CHEMICAL'),\n",
       "   ('Behavioural Disorders And Intellectual Disability', 'DISEASE'),\n",
       "   ('Neuropsychological Disorders', 'DISEASE'),\n",
       "   ('Phenylketonuria', 'DISEASE'),\n",
       "   ('Monogenic Disease', 'DISEASE')]},\n",
       " 'pubmed~29175141': {'title': 'Large neutral amino acid supplementation as an alternative to the phenylalanine-restricted diet in adults with phenylketonuria: evidence from adult Pah-enu2 mice.',\n",
       "  'mesh_terms': ['Amino Acids, Neutral',\n",
       "   'Animals',\n",
       "   'Biogenic Monoamines',\n",
       "   'Brain',\n",
       "   'Dietary Supplements',\n",
       "   'Disease Models, Animal',\n",
       "   'Eating',\n",
       "   'Female',\n",
       "   'Male',\n",
       "   'Mice, Inbred C57Bl',\n",
       "   'Mice, Mutant Strains',\n",
       "   'Phenylalanine',\n",
       "   'Phenylketonurias'],\n",
       "  'key_words': [('Phenylalanine', 'CHEMICAL'),\n",
       "   ('Amino Acids', 'CHEMICAL'),\n",
       "   ('Amino Acid', 'CHEMICAL'),\n",
       "   ('Cerebral Monoamine Deficiencies', 'DISEASE'),\n",
       "   ('Brain Dysfunction', 'DISEASE'),\n",
       "   ('Phenylketonuria', 'DISEASE')]},\n",
       " 'pubmed~33932386': {'title': 'Short-time anesthesia of a child with phenylketonuria: a case report.',\n",
       "  'mesh_terms': ['Anesthesia',\n",
       "   'Anesthesia Recovery Period',\n",
       "   'Child',\n",
       "   'Humans',\n",
       "   'Ketamine',\n",
       "   'Male',\n",
       "   'Midazolam',\n",
       "   'Phenylketonurias'],\n",
       "  'key_words': [('Phenylalanine', 'CHEMICAL'),\n",
       "   ('Midazolam', 'CHEMICAL'),\n",
       "   ('Fracture', 'DISEASE'),\n",
       "   ('Ketamine', 'CHEMICAL'),\n",
       "   ('Oxygen', 'CHEMICAL'),\n",
       "   ('Phenylketonuria', 'DISEASE'),\n",
       "   ('Disorder', 'DISEASE')]},\n",
       " 'pubmed~31237171': {'title': 'Characteristics, comorbidities, and use of healthcare resources of patients with phenylketonuria: a population-based study.',\n",
       "  'mesh_terms': ['Adolescent',\n",
       "   'Adult',\n",
       "   'Aged',\n",
       "   'Aged, 80 And Over',\n",
       "   'Child',\n",
       "   'Child, Preschool',\n",
       "   'Comorbidity',\n",
       "   'Delivery Of Health Care',\n",
       "   'Female',\n",
       "   'Health Expenditures',\n",
       "   'Humans',\n",
       "   'Infant',\n",
       "   'Male',\n",
       "   'Medical Audit',\n",
       "   'Medical Records',\n",
       "   'Middle Aged',\n",
       "   'Patient Acceptance Of Health Care',\n",
       "   'Patient Admission',\n",
       "   'Phenylketonurias',\n",
       "   'Spain',\n",
       "   'Young Adult'],\n",
       "  'key_words': [('140', 'CHEMICAL'),\n",
       "   ('Phenylketonuria', 'DISEASE'),\n",
       "   ('Multimorbidity', 'DISEASE')]}}"
      ]
     },
     "execution_count": 8,
     "metadata": {},
     "output_type": "execute_result"
    }
   ],
   "source": [
    "result"
   ]
  },
  {
   "cell_type": "code",
   "execution_count": null,
   "metadata": {
    "pycharm": {
     "name": "#%%\n"
    }
   },
   "outputs": [],
   "source": [
    "# get terms\n",
    "mesh_terms = list()\n",
    "key_words = list()\n",
    "diseas_list = list()\n",
    "chemical_list = list()\n",
    "for paper_id, paper_val in result.items():\n",
    "    mesh_terms += paper_val['mesh_terms']\n",
    "    key_words += paper_val['key_words']\n",
    "    diseas_list += [e[0] for e in paper_val['entities'] if e[1] == 'DISEASE']\n",
    "    chemical_list += [e[0] for e in paper_val['entities'] if e[1] == 'CHEMICAL']\n",
    "len(mesh_terms), len(key_words), len(diseas_list), len(chemical_list)"
   ]
  },
  {
   "cell_type": "code",
   "execution_count": null,
   "metadata": {
    "pycharm": {
     "name": "#%%\n"
    }
   },
   "outputs": [],
   "source": [
    "# might need to be installed\n",
    "import pandas as pd\n",
    "import matplotlib.pyplot as plt"
   ]
  },
  {
   "cell_type": "code",
   "execution_count": null,
   "metadata": {
    "pycharm": {
     "name": "#%%\n"
    }
   },
   "outputs": [],
   "source": [
    "# MeSH terms\n",
    "fig = plt.figure(figsize=(14,8))\n",
    "pd.Series(mesh_terms).value_counts()[:50].plot(kind='bar')\n",
    "plt.title('MeSH')\n",
    "plt.show()"
   ]
  },
  {
   "cell_type": "code",
   "execution_count": null,
   "metadata": {
    "pycharm": {
     "name": "#%%\n"
    }
   },
   "outputs": [],
   "source": [
    "# KeyWords terms\n",
    "fig = plt.figure(figsize=(14,8))\n",
    "pd.Series(key_words).value_counts()[:50].plot(kind='bar')\n",
    "plt.title('KeyWords')\n",
    "plt.show()"
   ]
  },
  {
   "cell_type": "code",
   "execution_count": null,
   "metadata": {
    "pycharm": {
     "name": "#%%\n"
    }
   },
   "outputs": [],
   "source": [
    "# disease terms\n",
    "fig = plt.figure(figsize=(14,8))\n",
    "pd.Series(diseas_list).value_counts()[:50].plot(kind='bar')\n",
    "plt.title('disease')\n",
    "plt.show()"
   ]
  },
  {
   "cell_type": "code",
   "execution_count": null,
   "metadata": {
    "pycharm": {
     "name": "#%%\n"
    }
   },
   "outputs": [],
   "source": [
    "# chemical terms\n",
    "fig = plt.figure(figsize=(14,8))\n",
    "pd.Series(chemical_list).value_counts()[:50].plot(kind='bar')\n",
    "plt.title('chemical')\n",
    "plt.show()"
   ]
  },
  {
   "cell_type": "code",
   "execution_count": null,
   "metadata": {
    "pycharm": {
     "name": "#%%\n"
    }
   },
   "outputs": [],
   "source": [
    "import networkx as nx"
   ]
  },
  {
   "cell_type": "code",
   "execution_count": null,
   "metadata": {
    "pycharm": {
     "name": "#%%\n"
    }
   },
   "outputs": [],
   "source": [
    "disease_top20 = list(pd.Series(diseas_list).value_counts()[:20].index)\n",
    "chemical_top20 = list(pd.Series(chemical_list).value_counts()[:20].index)\n",
    "# method to build df\n",
    "def build_graph_df(r_dict, top_disease, top_chemical):\n",
    "    source_list = list()\n",
    "    target_list = list()\n",
    "    for k, v in r_dict.items():\n",
    "        for e, label in v['entities']:\n",
    "            if label == 'CHEMICAL' and e in top_chemical:\n",
    "                source_list.append(k)\n",
    "                target_list.append(e)\n",
    "            elif label == 'DISEASE' and e in top_disease:\n",
    "                source_list.append(k)\n",
    "                target_list.append(e)\n",
    "    return pd.DataFrame({'source': source_list, 'target': target_list})"
   ]
  },
  {
   "cell_type": "code",
   "execution_count": null,
   "metadata": {
    "pycharm": {
     "name": "#%%\n"
    }
   },
   "outputs": [],
   "source": [
    "# build df with edges\n",
    "df = build_graph_df(result, disease_top20, chemical_top20)"
   ]
  },
  {
   "cell_type": "code",
   "execution_count": null,
   "metadata": {
    "pycharm": {
     "name": "#%%\n"
    }
   },
   "outputs": [],
   "source": [
    "# build graph\n",
    "G = nx.from_pandas_edgelist(df, 'source', 'target')"
   ]
  },
  {
   "cell_type": "code",
   "execution_count": null,
   "metadata": {
    "pycharm": {
     "name": "#%%\n"
    }
   },
   "outputs": [],
   "source": [
    "# build color list\n",
    "colors = list()\n",
    "for v in G:\n",
    "    if v in disease_top20:\n",
    "        colors.append('#2871cc')\n",
    "    elif v in chemical_list:\n",
    "        colors.append('yellow')\n",
    "    else:\n",
    "        colors.append('lightgray')\n",
    "# build labels dict\n",
    "labels_ = dict()\n",
    "for e in disease_top20 + chemical_top20:\n",
    "    labels_[e] = e\n",
    "len(labels_)"
   ]
  },
  {
   "cell_type": "code",
   "execution_count": null,
   "metadata": {
    "pycharm": {
     "name": "#%%\n"
    }
   },
   "outputs": [],
   "source": [
    "# draw graph\n",
    "pos = nx.spring_layout(G)\n",
    "betCent = nx.betweenness_centrality(G, normalized=True, endpoints=True)\n",
    "node_color = colors\n",
    "node_size =  [v * 10000 for v in betCent.values()]\n",
    "plt.figure(figsize=(20,20))\n",
    "nx.draw_networkx(G, pos=pos, with_labels=True,\n",
    "                 labels=labels_,\n",
    "                 node_color=node_color,\n",
    "                 node_size=node_size,\n",
    "                 edge_color='gray'\n",
    "                )\n",
    "plt.axis('off')"
   ]
  }
 ],
 "metadata": {
  "kernelspec": {
   "display_name": "Python 3 (ipykernel)",
   "language": "python",
   "name": "python3"
  },
  "language_info": {
   "codemirror_mode": {
    "name": "ipython",
    "version": 3
   },
   "file_extension": ".py",
   "mimetype": "text/x-python",
   "name": "python",
   "nbconvert_exporter": "python",
   "pygments_lexer": "ipython3",
   "version": "3.7.13"
  },
  "toc": {
   "base_numbering": 1,
   "nav_menu": {},
   "number_sections": false,
   "sideBar": true,
   "skip_h1_title": false,
   "title_cell": "Table of Contents",
   "title_sidebar": "Contents",
   "toc_cell": false,
   "toc_position": {},
   "toc_section_display": true,
   "toc_window_display": false
  }
 },
 "nbformat": 4,
 "nbformat_minor": 1
}
