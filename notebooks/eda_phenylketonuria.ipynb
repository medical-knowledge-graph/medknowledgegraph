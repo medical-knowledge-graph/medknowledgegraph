{
 "cells": [
  {
   "cell_type": "code",
   "execution_count": null,
   "metadata": {
    "collapsed": true
   },
   "outputs": [],
   "source": [
    "import json\n",
    "from pymedgraph.manager import MedGraphManager"
   ]
  },
  {
   "cell_type": "code",
   "execution_count": null,
   "outputs": [],
   "source": [
    "# build request\n",
    "key_term = 'phenylketonuria'\n",
    "request_json = json.dumps({'disease': key_term, 'n_articles': 100})\n",
    "request_json"
   ],
   "metadata": {
    "collapsed": false,
    "pycharm": {
     "name": "#%%\n"
    }
   }
  },
  {
   "cell_type": "code",
   "execution_count": null,
   "outputs": [],
   "source": [
    "# init manager\n",
    "manager = MedGraphManager(config_path='../pymedgraph/localconfig.json')\n",
    "# get results for request\n",
    "result = manager.construct_med_graph(request_json)\n",
    "len(result)"
   ],
   "metadata": {
    "collapsed": false,
    "pycharm": {
     "name": "#%%\n"
    }
   }
  },
  {
   "cell_type": "code",
   "execution_count": null,
   "outputs": [],
   "source": [
    "# get terms\n",
    "mesh_terms = list()\n",
    "key_words = list()\n",
    "diseas_list = list()\n",
    "chemical_list = list()\n",
    "for paper_id, paper_val in result.items():\n",
    "    mesh_terms += paper_val['mesh_terms']\n",
    "    key_words += paper_val['key_words']\n",
    "    diseas_list += [e[0] for e in paper_val['entities'] if e[1] == 'DISEASE']\n",
    "    chemical_list += [e[0] for e in paper_val['entities'] if e[1] == 'CHEMICAL']\n",
    "len(mesh_terms), len(key_words), len(diseas_list), len(chemical_list)"
   ],
   "metadata": {
    "collapsed": false,
    "pycharm": {
     "name": "#%%\n"
    }
   }
  },
  {
   "cell_type": "code",
   "execution_count": null,
   "outputs": [],
   "source": [
    "# might need to be installed\n",
    "import pandas as pd\n",
    "import matplotlib.pyplot as plt"
   ],
   "metadata": {
    "collapsed": false,
    "pycharm": {
     "name": "#%%\n"
    }
   }
  },
  {
   "cell_type": "code",
   "execution_count": null,
   "outputs": [],
   "source": [
    "# MeSH terms\n",
    "fig = plt.figure(figsize=(14,8))\n",
    "pd.Series(mesh_terms).value_counts()[:50].plot(kind='bar')\n",
    "plt.title('MeSH')\n",
    "plt.show()"
   ],
   "metadata": {
    "collapsed": false,
    "pycharm": {
     "name": "#%%\n"
    }
   }
  },
  {
   "cell_type": "code",
   "execution_count": null,
   "outputs": [],
   "source": [
    "# KeyWords terms\n",
    "fig = plt.figure(figsize=(14,8))\n",
    "pd.Series(key_words).value_counts()[:50].plot(kind='bar')\n",
    "plt.title('KeyWords')\n",
    "plt.show()"
   ],
   "metadata": {
    "collapsed": false,
    "pycharm": {
     "name": "#%%\n"
    }
   }
  },
  {
   "cell_type": "code",
   "execution_count": null,
   "outputs": [],
   "source": [
    "# disease terms\n",
    "fig = plt.figure(figsize=(14,8))\n",
    "pd.Series(diseas_list).value_counts()[:50].plot(kind='bar')\n",
    "plt.title('disease')\n",
    "plt.show()"
   ],
   "metadata": {
    "collapsed": false,
    "pycharm": {
     "name": "#%%\n"
    }
   }
  },
  {
   "cell_type": "code",
   "execution_count": null,
   "outputs": [],
   "source": [
    "# chemical terms\n",
    "fig = plt.figure(figsize=(14,8))\n",
    "pd.Series(chemical_list).value_counts()[:50].plot(kind='bar')\n",
    "plt.title('chemical')\n",
    "plt.show()"
   ],
   "metadata": {
    "collapsed": false,
    "pycharm": {
     "name": "#%%\n"
    }
   }
  },
  {
   "cell_type": "code",
   "execution_count": null,
   "outputs": [],
   "source": [
    "import networkx as nx"
   ],
   "metadata": {
    "collapsed": false,
    "pycharm": {
     "name": "#%%\n"
    }
   }
  },
  {
   "cell_type": "code",
   "execution_count": null,
   "outputs": [],
   "source": [
    "disease_top20 = list(pd.Series(diseas_list).value_counts()[:20].index)\n",
    "chemical_top20 = list(pd.Series(chemical_list).value_counts()[:20].index)\n",
    "# method to build df\n",
    "def build_graph_df(r_dict, top_disease, top_chemical):\n",
    "    source_list = list()\n",
    "    target_list = list()\n",
    "    for k, v in r_dict.items():\n",
    "        for e, label in v['entities']:\n",
    "            if label == 'CHEMICAL' and e in top_chemical:\n",
    "                source_list.append(k)\n",
    "                target_list.append(e)\n",
    "            elif label == 'DISEASE' and e in top_disease:\n",
    "                source_list.append(k)\n",
    "                target_list.append(e)\n",
    "    return pd.DataFrame({'source': source_list, 'target': target_list})"
   ],
   "metadata": {
    "collapsed": false,
    "pycharm": {
     "name": "#%%\n"
    }
   }
  },
  {
   "cell_type": "code",
   "execution_count": null,
   "outputs": [],
   "source": [
    "# build df with edges\n",
    "df = build_graph_df(result, disease_top20, chemical_top20)"
   ],
   "metadata": {
    "collapsed": false,
    "pycharm": {
     "name": "#%%\n"
    }
   }
  },
  {
   "cell_type": "code",
   "execution_count": null,
   "outputs": [],
   "source": [
    "# build graph\n",
    "G = nx.from_pandas_edgelist(df, 'source', 'target')"
   ],
   "metadata": {
    "collapsed": false,
    "pycharm": {
     "name": "#%%\n"
    }
   }
  },
  {
   "cell_type": "code",
   "execution_count": null,
   "outputs": [],
   "source": [
    "# build color list\n",
    "colors = list()\n",
    "for v in G:\n",
    "    if v in disease_top20:\n",
    "        colors.append('#2871cc')\n",
    "    elif v in chemical_list:\n",
    "        colors.append('yellow')\n",
    "    else:\n",
    "        colors.append('lightgray')\n",
    "# build labels dict\n",
    "labels_ = dict()\n",
    "for e in disease_top20 + chemical_top20:\n",
    "    labels_[e] = e\n",
    "len(labels_)"
   ],
   "metadata": {
    "collapsed": false,
    "pycharm": {
     "name": "#%%\n"
    }
   }
  },
  {
   "cell_type": "code",
   "execution_count": null,
   "outputs": [],
   "source": [
    "# draw graph\n",
    "pos = nx.spring_layout(G)\n",
    "betCent = nx.betweenness_centrality(G, normalized=True, endpoints=True)\n",
    "node_color = colors\n",
    "node_size =  [v * 10000 for v in betCent.values()]\n",
    "plt.figure(figsize=(20,20))\n",
    "nx.draw_networkx(G, pos=pos, with_labels=True,\n",
    "                 labels=labels_,\n",
    "                 node_color=node_color,\n",
    "                 node_size=node_size,\n",
    "                 edge_color='gray'\n",
    "                )\n",
    "plt.axis('off')"
   ],
   "metadata": {
    "collapsed": false,
    "pycharm": {
     "name": "#%%\n"
    }
   }
  }
 ],
 "metadata": {
  "kernelspec": {
   "display_name": "Python 3",
   "language": "python",
   "name": "python3"
  },
  "language_info": {
   "codemirror_mode": {
    "name": "ipython",
    "version": 2
   },
   "file_extension": ".py",
   "mimetype": "text/x-python",
   "name": "python",
   "nbconvert_exporter": "python",
   "pygments_lexer": "ipython2",
   "version": "2.7.6"
  }
 },
 "nbformat": 4,
 "nbformat_minor": 0
}